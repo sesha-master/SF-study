{
  "nbformat": 4,
  "nbformat_minor": 0,
  "metadata": {
    "colab": {
      "name": "unit1Template.ipynb",
      "provenance": [],
      "collapsed_sections": [
        "39P-deDSVp-y",
        "M99JmIX4Vp-2",
        "wEOM5ERVVp-6",
        "xhpspA9KVp_A",
        "Zi4hDKidVp_F",
        "EA7Sa9dkVp_I",
        "T9_bPWpkVp_Q",
        "0F23bgsDVp_U",
        "PsYC9FgRVp_a",
        "PQ0KciD7Vp_f",
        "mWHyyL7QVp_j",
        "NIh6AaW5Vp_n",
        "RqOmPRfWVp_q",
        "vS8Ur6ddVp_u",
        "JAzJh4QAVp_z",
        "8Im1S2HRVp_4",
        "uAJsZ_NeVp_7",
        "G94ppOY1VqAA",
        "RBo0JVjVVqAF",
        "9G0hbvR7VqAK",
        "FJ1AFt90VqAP",
        "MdXsUXbCVqAV",
        "U0nONFnGVqAX"
      ],
      "include_colab_link": true
    },
    "kernelspec": {
      "display_name": "Python 3",
      "language": "python",
      "name": "python3"
    },
    "language_info": {
      "codemirror_mode": {
        "name": "ipython",
        "version": 3
      },
      "file_extension": ".py",
      "mimetype": "text/x-python",
      "name": "python",
      "nbconvert_exporter": "python",
      "pygments_lexer": "ipython3",
      "version": "3.7.4"
    }
  },
  "cells": [
    {
      "cell_type": "markdown",
      "metadata": {
        "id": "view-in-github",
        "colab_type": "text"
      },
      "source": [
        "<a href=\"https://colab.research.google.com/github/sesha-master/SF-study/blob/master/module-1/project1.ipynb\" target=\"_parent\"><img src=\"https://colab.research.google.com/assets/colab-badge.svg\" alt=\"Open In Colab\"/></a>"
      ]
    },
    {
      "cell_type": "code",
      "metadata": {
        "id": "U2D2gTdJVp90"
      },
      "source": [
        "import numpy as np\n",
        "import pandas as pd\n",
        "import seaborn as sns\n",
        "import matplotlib.pyplot as plt\n",
        "from collections import Counter"
      ],
      "execution_count": 2,
      "outputs": []
    },
    {
      "cell_type": "code",
      "metadata": {
        "colab": {
          "base_uri": "https://localhost:8080/"
        },
        "id": "usaAoXDDU5yO",
        "outputId": "30fe50cb-69e0-4e1e-ec79-cb24caa01df4"
      },
      "source": [
        "from google.colab import drive\n",
        "drive.mount('/content/drive/')"
      ],
      "execution_count": 3,
      "outputs": [
        {
          "output_type": "stream",
          "text": [
            "Mounted at /content/drive/\n"
          ],
          "name": "stdout"
        }
      ]
    },
    {
      "cell_type": "code",
      "metadata": {
        "colab": {
          "base_uri": "https://localhost:8080/",
          "height": 649
        },
        "id": "oyGfxL3eVp9-",
        "outputId": "bc4a3580-6135-4bc4-ec69-4f54e9b3c599"
      },
      "source": [
        "#data = pd.read_csv('movie_bd_v5.csv')\n",
        "data = pd.read_csv('/content/drive/MyDrive/Colab Notebooks/files/movie_bd_v5.csv')\n",
        "data.sample(5)"
      ],
      "execution_count": 51,
      "outputs": [
        {
          "output_type": "execute_result",
          "data": {
            "text/html": [
              "<div>\n",
              "<style scoped>\n",
              "    .dataframe tbody tr th:only-of-type {\n",
              "        vertical-align: middle;\n",
              "    }\n",
              "\n",
              "    .dataframe tbody tr th {\n",
              "        vertical-align: top;\n",
              "    }\n",
              "\n",
              "    .dataframe thead th {\n",
              "        text-align: right;\n",
              "    }\n",
              "</style>\n",
              "<table border=\"1\" class=\"dataframe\">\n",
              "  <thead>\n",
              "    <tr style=\"text-align: right;\">\n",
              "      <th></th>\n",
              "      <th>imdb_id</th>\n",
              "      <th>budget</th>\n",
              "      <th>revenue</th>\n",
              "      <th>original_title</th>\n",
              "      <th>cast</th>\n",
              "      <th>director</th>\n",
              "      <th>tagline</th>\n",
              "      <th>overview</th>\n",
              "      <th>runtime</th>\n",
              "      <th>genres</th>\n",
              "      <th>production_companies</th>\n",
              "      <th>release_date</th>\n",
              "      <th>vote_average</th>\n",
              "      <th>release_year</th>\n",
              "    </tr>\n",
              "  </thead>\n",
              "  <tbody>\n",
              "    <tr>\n",
              "      <th>1120</th>\n",
              "      <td>tt0314353</td>\n",
              "      <td>70000000</td>\n",
              "      <td>85632458</td>\n",
              "      <td>Tears of the Sun</td>\n",
              "      <td>Bruce Willis|Monica Bellucci|Cole Hauser|Eamon...</td>\n",
              "      <td>Antoine Fuqua</td>\n",
              "      <td>He was trained to follow orders. He became a h...</td>\n",
              "      <td>Navy SEAL Lieutenant A.K. Waters and his elite...</td>\n",
              "      <td>121</td>\n",
              "      <td>Action|Drama|War</td>\n",
              "      <td>Columbia Pictures|Revolution Studios|Cheyenne ...</td>\n",
              "      <td>3/7/2003</td>\n",
              "      <td>6.4</td>\n",
              "      <td>2003</td>\n",
              "    </tr>\n",
              "    <tr>\n",
              "      <th>585</th>\n",
              "      <td>tt0244000</td>\n",
              "      <td>35000000</td>\n",
              "      <td>13678913</td>\n",
              "      <td>American Outlaws</td>\n",
              "      <td>Colin Farrell|Scott Caan|Ali Larter|Gabriel Ma...</td>\n",
              "      <td>Les Mayfield</td>\n",
              "      <td>Sometimes the wrong side of the law is the rig...</td>\n",
              "      <td>When a Midwest town learns that a corrupt rail...</td>\n",
              "      <td>94</td>\n",
              "      <td>Action|Western</td>\n",
              "      <td>Warner Bros. Pictures|Morgan Creek Productions</td>\n",
              "      <td>8/17/2001</td>\n",
              "      <td>5.8</td>\n",
              "      <td>2001</td>\n",
              "    </tr>\n",
              "    <tr>\n",
              "      <th>730</th>\n",
              "      <td>tt1229238</td>\n",
              "      <td>145000000</td>\n",
              "      <td>694713380</td>\n",
              "      <td>Mission: Impossible - Ghost Protocol</td>\n",
              "      <td>Tom Cruise|Jeremy Renner|Simon Pegg|Paula Patt...</td>\n",
              "      <td>Brad Bird</td>\n",
              "      <td>No Plan. No Backup. No Choice.</td>\n",
              "      <td>In the 4th installment of the Mission Impossib...</td>\n",
              "      <td>133</td>\n",
              "      <td>Action|Thriller|Adventure</td>\n",
              "      <td>Paramount Pictures|Skydance Productions|Bad Ro...</td>\n",
              "      <td>12/7/2011</td>\n",
              "      <td>6.7</td>\n",
              "      <td>2011</td>\n",
              "    </tr>\n",
              "    <tr>\n",
              "      <th>217</th>\n",
              "      <td>tt2980592</td>\n",
              "      <td>5000000</td>\n",
              "      <td>2367161</td>\n",
              "      <td>The Guest</td>\n",
              "      <td>Dan Stevens|Maika Monroe|Sheila Kelley|Ethan E...</td>\n",
              "      <td>Adam Wingard</td>\n",
              "      <td>Be careful who you let in</td>\n",
              "      <td>A soldier introduces himself to the Peterson f...</td>\n",
              "      <td>99</td>\n",
              "      <td>Mystery|Thriller|Action</td>\n",
              "      <td>HanWay Films|Snoot Entertainment</td>\n",
              "      <td>9/17/2014</td>\n",
              "      <td>6.6</td>\n",
              "      <td>2014</td>\n",
              "    </tr>\n",
              "    <tr>\n",
              "      <th>1768</th>\n",
              "      <td>tt0452702</td>\n",
              "      <td>19000000</td>\n",
              "      <td>35300645</td>\n",
              "      <td>Vacancy</td>\n",
              "      <td>Kate Beckinsale|Luke Wilson|Ethan Embry|Scott ...</td>\n",
              "      <td>NimrÃ³d Antal</td>\n",
              "      <td>Once you've checked in... The terror begins.</td>\n",
              "      <td>A young married couple becomes stranded at an ...</td>\n",
              "      <td>80</td>\n",
              "      <td>Horror|Thriller</td>\n",
              "      <td>Screen Gems|Hal Lieberman Company</td>\n",
              "      <td>4/20/2007</td>\n",
              "      <td>5.9</td>\n",
              "      <td>2007</td>\n",
              "    </tr>\n",
              "  </tbody>\n",
              "</table>\n",
              "</div>"
            ],
            "text/plain": [
              "        imdb_id     budget    revenue  ... release_date vote_average release_year\n",
              "1120  tt0314353   70000000   85632458  ...     3/7/2003          6.4         2003\n",
              "585   tt0244000   35000000   13678913  ...    8/17/2001          5.8         2001\n",
              "730   tt1229238  145000000  694713380  ...    12/7/2011          6.7         2011\n",
              "217   tt2980592    5000000    2367161  ...    9/17/2014          6.6         2014\n",
              "1768  tt0452702   19000000   35300645  ...    4/20/2007          5.9         2007\n",
              "\n",
              "[5 rows x 14 columns]"
            ]
          },
          "metadata": {
            "tags": []
          },
          "execution_count": 51
        }
      ]
    },
    {
      "cell_type": "code",
      "metadata": {
        "colab": {
          "base_uri": "https://localhost:8080/"
        },
        "id": "11lUiatwVfrO",
        "outputId": "6ee42417-5c8d-4a59-ec01-3316bff92796"
      },
      "source": [
        "data.director.unique()"
      ],
      "execution_count": null,
      "outputs": [
        {
          "output_type": "execute_result",
          "data": {
            "text/plain": [
              "array(['Colin Trevorrow', 'George Miller', 'Robert Schwentke',\n",
              "       'J.J. Abrams', 'James Wan', 'Alejandro GonzÃ¡lez IÃ±Ã¡rritu',\n",
              "       'Alan Taylor', 'Ridley Scott', 'Kyle Balda|Pierre Coffin',\n",
              "       'Pete Docter', 'Sam Mendes', 'Lana Wachowski|Lilly Wachowski',\n",
              "       'Alex Garland', 'Chris Columbus', 'Joss Whedon',\n",
              "       'Quentin Tarantino', 'Olivier Megaton', 'Peyton Reed',\n",
              "       'Kenneth Branagh', 'Francis Lawrence', 'Brad Bird',\n",
              "       'Antoine Fuqua', 'Brad Peyton', 'Sam Taylor-Johnson', 'Adam McKay',\n",
              "       'Christopher McQuarrie', 'Seth MacFarlane', 'Matthew Vaughn',\n",
              "       'Tom McCarthy', 'Wes Ball', 'Neill Blomkamp', 'Elizabeth Banks',\n",
              "       'Steven Spielberg', 'Rob Letterman', 'Lenny Abrahamson',\n",
              "       'Peter Sohn', 'Jaume Collet-Serra', 'John Crowley', 'F. Gary Gray',\n",
              "       'Breck Eisner', 'Guy Ritchie', 'Lee Toland Krieger',\n",
              "       'Ilya Naishuller', 'Tim Johnson', 'Jake Schreier', 'Todd Haynes',\n",
              "       'Nancy Meyers', 'Baltasar KormÃ¡kur', 'Ericson Core', 'John Wells',\n",
              "       'Tarsem Singh', 'David Koepp', 'Tom Hooper', 'Michael Mann',\n",
              "       'Denis Villeneuve', 'Josh Trank', 'Paul Feig',\n",
              "       'Glenn Ficarra|John Requa', 'Aleksander Bach', 'Ron Howard',\n",
              "       'Ryan Coogler', 'Judd Apatow', 'Gavin Hood', 'Brian Helgeland',\n",
              "       'Joe Wright', 'Steve Martino', 'Peter Landesman',\n",
              "       'Jonathan Levine', 'George Tillman, Jr.', 'Genndy Tartakovsky',\n",
              "       'Jessie Nelson', 'Robert Zemeckis',\n",
              "       'John Francis Daley|Jonathan M. Goldstein', 'Gil Kenan',\n",
              "       'Daniel Espinosa', 'Joel Edgerton', 'Sean Anders', 'Mark Osborne',\n",
              "       'Jocelyn Moorhouse', 'Ari Sandel', 'Ciaran Foy', 'Andy Fickman',\n",
              "       'Doug Ellin', 'Jeremy Garelick', 'M. Night Shyamalan',\n",
              "       'Scott Cooper', 'Michael Dougherty', 'John Erick Dowdle',\n",
              "       'Simon Curtis', 'Jason Moore', 'Dean Israelite',\n",
              "       'Camille Delamarre', 'Guillermo del Toro', 'Gregory Jacobs',\n",
              "       'Gregory Plotkin', 'Jay Roach', 'Billy Ray', 'Paul Tibbitt',\n",
              "       'Boaz Yakin', 'Pierre Morel', 'Anne Fletcher', 'Leigh Whannell',\n",
              "       'Nicholas Hytner', 'Paul McGuigan', 'Jonathan Demme',\n",
              "       'David M. Rosenthal', 'Noah Baumbach', 'Etan Cohen',\n",
              "       'Sarah Gavron', 'Max Joseph', 'Alejandro Monteverde',\n",
              "       'Cameron Crowe', 'David Gordon Green', 'Barry Levinson',\n",
              "       'Ken Kwapis', 'Ken Scott', 'Mike Binder', 'Jon M. Chu',\n",
              "       'Christopher Nolan', 'James Gunn', 'Joe Russo|Anthony Russo',\n",
              "       'Chad Stahelski|David Leitch', 'Peter Jackson',\n",
              "       'Don Hall|Chris Williams', 'Morten Tyldum', 'David Fincher',\n",
              "       'David Ayer', 'Shawn Levy', 'Neil Burger', 'Bryan Singer',\n",
              "       'Luc Besson', 'Jonathan Liebesman', 'Jake Kasdan', 'Dan Gilroy',\n",
              "       'Michael Bay', 'Wes Anderson', 'Matt Reeves', 'Marc Webb',\n",
              "       'Doug Liman', 'Evan Goldberg|Seth Rogen', 'Clint Eastwood',\n",
              "       'Gareth Edwards', 'Robert Stromberg', 'Roger Donaldson',\n",
              "       'Stiles White', 'Dean DeBlois', 'Patrick Hughes',\n",
              "       'Phil Lord|Christopher Miller', 'Sergey Bodrov', 'James Marsh',\n",
              "       'Luke Greenfield', 'Gary Shore', 'Simon J. Smith|Eric Darnell',\n",
              "       'Rob Marshall', 'Noam Murro', 'Phillip Noyce', 'Scott Frank',\n",
              "       'Paul King', 'Daniel Barnz', 'Jon Favreau', 'James DeMonaco',\n",
              "       'Vic Armstrong', 'J.C. Chandor', 'Brett Ratner',\n",
              "       'Darren Aronofsky', 'David Dobkin', 'Frank Coraci',\n",
              "       'Nicholas Stoller', 'R.J. Cutler', 'Trish Sie', 'Josh Boone',\n",
              "       'Tim Story', 'Paul Thomas Anderson',\n",
              "       'Michael Spierig|Peter Spierig', 'JosÃ© Padilha', 'Wally Pfister',\n",
              "       'Nick Cassavetes', 'Rob Minkoff', 'Frank Miller|Robert Rodriguez',\n",
              "       'Carlos Saldanha', 'Bobby Farrelly|Peter Farrelly',\n",
              "       'George Clooney', 'Angelina Jolie', 'Ava DuVernay',\n",
              "       'Paul W.S. Anderson', 'Michael Hoffman', 'Will Gluck',\n",
              "       'Theodore Melfi', 'Scott Waugh', 'Lasse HallstrÃ¶m',\n",
              "       'Graham Annable|Anthony Stacchi', 'Tim Burton', 'Brian A Miller',\n",
              "       'Steven Quale', 'Roberts Gannaway', 'Sam Miller', 'Bennett Miller',\n",
              "       'Shana Feste', 'David MichÃ´d', 'Saul Dibb', 'John R. Leonetti',\n",
              "       'Stuart Beattie', 'Tom Gormican', 'Ben Falcone', 'Akiva Goldsman',\n",
              "       'Adam Wingard', 'Russell Crowe', 'Miguel Arteta', 'Steve Pink',\n",
              "       'Craig Gillespie', 'Jonathan Glazer', 'Rob Thomas',\n",
              "       'Christopher Spencer', 'Thomas Carter', 'GrÃ©gory Levasseur',\n",
              "       'Michael Cuesta', 'Charles Martin Smith', 'James Bobin',\n",
              "       'Randall Wallace', 'Renny Harlin', 'Andrew Erwin|Jon Erwin',\n",
              "       'Dave Green', 'Rupert Wyatt', 'Don McKellar', 'Harold Cronk',\n",
              "       'Matt Bettinelli-Olpin|Tyler Gillett', 'James Cameron',\n",
              "       'Patrick Tatopoulos', 'David Yates', 'Bob Peterson|Pete Docter',\n",
              "       'McG', 'Todd Phillips', 'Zack Snyder', 'Roland Emmerich',\n",
              "       'Shane Acker', 'Ron Clements|John Musker', 'John Lee Hancock',\n",
              "       'Ruben Fleischer', 'Chris Weitz', 'Stephen Sommers',\n",
              "       'Robert Luketic', 'Henry Selick', 'Burr Steers', 'Steve Carr',\n",
              "       'Richard Kelly', 'Mark Neveldine|Brian Taylor', 'Christian Alvart',\n",
              "       'Sam Raimi', 'Alex Proyas', 'Duncan Jones', 'Hoyt Yeatman',\n",
              "       'Tony Scott', 'Ricky Gervais|Matthew Robinson', 'P.J. Hogan',\n",
              "       'Jaco Van Dormael', 'Peter Billingsley', 'Jim Sheridan',\n",
              "       'John Hillcoat', 'Rob Letterman|Conrad Vernon', 'Nora Ephron',\n",
              "       'Atom Egoyan', 'Karyn Kusama', 'Phil Traill', 'David R. Ellis',\n",
              "       'Betty Thomas', 'Gary Winick', 'Lee Daniels', 'Kevin Macdonald',\n",
              "       'David S. Goyer', 'John Hamburg', 'Steven Soderbergh',\n",
              "       'Richard Curtis', 'Brandon Camp', 'Kevin Greutert',\n",
              "       'Jean-Marc VallÃ©e', 'Ethan Coen|Joel Coen', 'David Twohy',\n",
              "       'Dominic Sena', 'Rajkumar Hirani', 'Grant Heslov',\n",
              "       'James McTeigue', 'Todd Graff', 'Brad Silberling',\n",
              "       'Jorge Blanco|Javier Abad|Marcos MartÃ\\xadnez', 'Harold Ramis',\n",
              "       'Patrick Lussier', 'Walt Becker', 'Alejandro AmenÃ¡bar',\n",
              "       'Troy Duffy', 'Werner Herzog', 'NimrÃ³d Antal', 'Paul Weitz',\n",
              "       'Lone Scherfig', 'Jason Reitman', 'David Bowers', 'Tom Tykwer',\n",
              "       'Justin Lin', 'Michael Moore', 'Rob Zombie', 'Peter Chelsom',\n",
              "       'John Schultz', 'Olatunde Osunsanmi',\n",
              "       'Brian Koppelman|David Levien', 'Tony Gilroy', 'Jane Campion',\n",
              "       'Greg Mottola', 'Mike Judge', 'Donald Petrie', 'Marcus Nispel',\n",
              "       'Daniel Barber', 'Jonathan Mostow', 'Andrzej Bartkowiak',\n",
              "       'Thor Freudenthal', 'Steve Shill', 'Michael J. Bassett',\n",
              "       'Jonas Elmer', 'Richard Linklater', 'Robert Rodriguez',\n",
              "       'Stewart Hendler', 'Derrick Borte', 'Vicky Jenson',\n",
              "       'Marc Lawrence', 'Toby Wilkins', 'Bruce Beresford',\n",
              "       'Pierre Coffin|Chris Renaud', 'Sylvester Stallone',\n",
              "       'Dean DeBlois|Chris Sanders', 'Martin Scorsese', 'Joseph Kosinski',\n",
              "       'Nathan Greno|Byron Howard', 'Lee Unkrich', 'Danny Boyle',\n",
              "       'Michael Apted', 'Florian Henckel von Donnersmarck', 'Mike Newell',\n",
              "       'Louis Leterrier', 'Jon Turteltaub', 'Edgar Wright',\n",
              "       'Mike Mitchell', 'Joe Carnahan', 'Robert Rodriguez|Ethan Maniquis',\n",
              "       'Dennis Dugan', 'Albert Hughes|Allen Hughes', 'Ben Affleck',\n",
              "       'David Slade', 'Tom McGrath', 'Edward Zwick', 'Peter Weir',\n",
              "       'Miguel Sapochnik', 'James Mangold', 'Ryan Murphy', 'Andy Tennant',\n",
              "       'Anand Tucker', 'Paul Greengrass', 'Alan Poul',\n",
              "       'Josh Gordon|Will Speck', 'Floria Sigismondi', 'Garry Marshall',\n",
              "       'Troy Nixey', 'Harald Zwart', 'Jonathan Lynn', 'Roman Polanski',\n",
              "       'Paul Haggis', 'Samuel Bayer', 'David O. Russell', 'Jimmy Hayward',\n",
              "       'Jason Friedberg|Aaron Seltzer', 'Scott Stewart',\n",
              "       'Michael Patrick King', 'Susanna White', 'John Luessenhop',\n",
              "       'Steve Antin', 'Nanette Burstein', 'Mark Romanek', 'Kevin Smith',\n",
              "       'Greg Berlanti', 'Neil Marshall', 'John Curran', 'Alexandre Aja',\n",
              "       'Roger Michell', 'Tony Goldwyn', 'Michael Lembeck',\n",
              "       'Colin Strause|Greg Strause', 'John Madden', 'Jorma Taccone',\n",
              "       'James L. Brooks', 'Brian Levant', 'Jim Field Smith',\n",
              "       'William Monahan', 'Wes Craven', 'Robert Redford', 'Neil LaBute',\n",
              "       'Tom Dey', 'Oliver Stone', 'Dan Rush', 'Anthony Bell|Ben Gluck',\n",
              "       'Eric Brevig', 'Tom Vaughan', 'Richard J. Lewis',\n",
              "       'Martin Campbell', 'Roger Kumble', 'Kevin Munroe', 'William Dear',\n",
              "       'John Landis', 'Tyler Perry', 'Vipul Amrutlal Shah', 'David Lynch',\n",
              "       'Lee Unkrich|David Silverman|Pete Docter',\n",
              "       'Andrew Adamson|Vicky Jenson', 'Sharon Maguire',\n",
              "       'Gary Trousdale|Kirk Wise', 'Simon West', 'J.B. Rogers',\n",
              "       'Baz Luhrmann', 'Ted Demme', 'Jean-Jacques Annaud', 'Ben Stiller',\n",
              "       'Joel Gallen', 'Keenen Ivory Wayans', 'John A. Davis',\n",
              "       'Lawrence Guterman', 'Chris Nahon', 'Peter Howitt',\n",
              "       'Hironobu Sakaguchi|Motonori Sakakibara', 'Michael Cristofer',\n",
              "       'John Moore', 'Victor Salva', 'Rod Lurie', 'Lee Tamahori',\n",
              "       'Adam Shankman', 'Jerry Zucker', 'Robert Altman', 'James Isaac',\n",
              "       'Gore Verbinski', 'John Dahl', 'Stephen Herek', 'Iain Softley',\n",
              "       'Gary Fleder', 'Simon Wincer', 'Bill Paxton', 'Luis Mandoki',\n",
              "       'Scott Hicks', 'Daniel Sackheim', 'John Herzfeld', 'Brian Robbins',\n",
              "       'Ivan Reitman', 'Frank Oz', 'Dennie Gordon', 'John Boorman',\n",
              "       \"Pat O'Connor\", 'Jesse Dylan', 'Gregory Poirier', 'Frank Darabont',\n",
              "       'Demian Lichtenstein', 'John Carpenter', 'Penny Marshall',\n",
              "       'Mark Waters', 'Rob Cohen', 'John Stockwell',\n",
              "       'Brendan Malloy|Emmett Malloy', 'Les Mayfield', 'Harold Becker',\n",
              "       'Mike Tollin', 'Tim Hill', 'Rob Pritts', 'Joe Johnston',\n",
              "       'Peter Hyams', 'Peter Bogdanovich', 'Francine McDougall',\n",
              "       'Ernest R. Dickerson', 'DJ Pooh', 'John Singleton',\n",
              "       'Andrew Stanton', 'Catherine Hardwicke', 'Marc Forster',\n",
              "       'Mark Osborne|John Stevenson', 'Phyllida Lloyd',\n",
              "       'Eric Darnell|Tom McGrath', 'Timur Bekmambetov',\n",
              "       'Danny Boyle|Loveleen Tandan', 'Peter Berg', 'Kathryn Bigelow',\n",
              "       'Andrew Adamson', 'D.J. Caruso', 'Mark Herman', 'Scott Derrickson',\n",
              "       'Gabriele Muccino', 'Chris Williams|Byron Howard', 'David Frankel',\n",
              "       'Jeff Wadlow', 'Lexi Alexander', 'Pete Travis', 'Peter Segal',\n",
              "       'David Wain', 'Mathieu Kassovitz', 'Martin McDonagh',\n",
              "       'Jon Hurwitz|Hayden Schlossberg', 'Peter Sollett', 'Seth Gordon',\n",
              "       'Fred Wolf', 'David Hackl', 'Marco Schnabel', 'Woody Allen',\n",
              "       'Jimmy Hayward|Steve Martino', 'Jon Avnet', 'Brad Anderson',\n",
              "       'Gregory Hoblit', 'Bryan Bertino', 'Gus Van Sant', 'Howard McCain',\n",
              "       'Chris Carter', 'John Patrick Shanley', 'Paul Weiland',\n",
              "       'Marcel Langenegger', 'David Moreau|Xavier Palud',\n",
              "       'Oxide Pang Chun|Danny Pang', 'Frank Miller', 'GÃ¡bor CsupÃ³',\n",
              "       'Peter Cattaneo', 'Robert Stevenhagen|Sam Fell', 'Craig Mazin',\n",
              "       'Gina Prince-Bythewood', 'Raja Gosnell', 'Michael McCullers',\n",
              "       'Julian Jarrold', 'Rian Johnson', 'Kirk De Micco', 'Howard Deutch',\n",
              "       'RyÃ»hei Kitamura', 'Simon Hunter', 'Joshua Michael Stern',\n",
              "       'Jennifer Flackett|Mark Levin', 'Anthony Leondis',\n",
              "       'Robert B. Weide', 'Malcolm D. Lee', 'Nicolas Winding Refn',\n",
              "       'Andrew Niccol', 'Jennifer Yuh', 'John Lasseter|Brad Lewis',\n",
              "       'Bill Condon', 'Terrence Malick', 'Michel Hazanavicius',\n",
              "       'Brad Furman', 'Gary McKendry', 'Mikael HÃ¥fstrÃ¶m',\n",
              "       'Stephen Anderson|Don Hall', 'George Nolfi', 'Tom Hanks',\n",
              "       'Mark Mylod', 'Chris Gorak', 'Tate Taylor',\n",
              "       'Christian E. Christiansen', 'Chris Miller', 'Michel Gondry',\n",
              "       'Oliver Parker', 'Todd Strauss-Schulson',\n",
              "       'Matthijs van Heijningen Jr.', 'Gonzalo LÃ³pez-Gallego',\n",
              "       'Simon Wells', 'Joe Cornish', 'Stephen Daldry', 'Kelly Asbury',\n",
              "       'Alexander Payne', 'Bruce Robinson', 'John Michael McDonagh',\n",
              "       'Jesse Peretz', 'Craig Brewer', 'Joel Schumacher',\n",
              "       'Henry Joost|Ariel Schulman', 'Michael Dowse', 'Jason Winer',\n",
              "       'Alister Grierson', 'Douglas McGrath', 'David Cronenberg',\n",
              "       'Sean McNamara', 'Mike Disa', 'Joe Nussbaum', 'William Friedkin',\n",
              "       'John Whitesell', 'Benny Chan', 'Salim Akil', 'Thomas Bezucha',\n",
              "       'Paul Johansson', 'Paolo Sorrentino', 'Rodrigo GarcÃ\\xada',\n",
              "       'Mark Duplass|Jay Duplass', 'Chris Wedge|Carlos Saldanha',\n",
              "       'George Lucas', 'Barry Sonnenfeld',\n",
              "       'Louis Leterrier|Corey Yuen Kwai', 'Wayne Wang', 'Curtis Hanson',\n",
              "       'Steven Brill', 'Joel Zwick', 'Chris Weitz|Paul Weitz',\n",
              "       'Andrew Davis', 'Stuart Baird', 'Kurt Wimmer', 'Steve Beck',\n",
              "       'Kelly Asbury|Lorna Cook', 'Jim Gillespie', 'Chuck Russell',\n",
              "       'Jeff Tremaine', 'Julie Taymor', 'Barbet Schroeder', 'Spike Jonze',\n",
              "       'Ron Shelton', 'Walter Hill', 'John Woo', 'Adrian Lyne',\n",
              "       'Michael Rymer', 'Marcus Raboy', 'Robin Budd|Donovan Cook',\n",
              "       'Dewey Nicks', 'Brian De Palma', 'Michael Caton-Jones',\n",
              "       'Rob Bowman', 'Carl Franklin', 'Shekhar Kapur', 'Mark Pellington',\n",
              "       'Jonathan Frakes', 'Rick Rosenthal', 'Denzel Washington',\n",
              "       'Mort Nathan', 'Tamra Davis', 'Ron Underwood', 'Stephen Gaghan',\n",
              "       'Reginald Hudlin', 'Tom Shadyac', 'Charles Stone III',\n",
              "       'Kevin Bray', 'William Malone', 'Paul Schrader',\n",
              "       'MÃ¥ns MÃ¥rlind|BjÃ¶rn Stein',\n",
              "       'Mark Andrews|Steve Purcell|Brenda Chapman', 'Rupert Sanders',\n",
              "       'Ang Lee', 'Steve Martino|Mike Thurmeier', 'Juan Antonio Bayona',\n",
              "       'Rich Moore', 'Gary Ross', 'Len Wiseman',\n",
              "       'Lilly Wachowski|Lana Wachowski|Tom Tykwer', 'Stephen Chbosky',\n",
              "       'Drew Goddard', 'Peter Ramsey', 'Michael Sucsy',\n",
              "       'Juan Diego Solanas', 'Chris Renaud|Kyle Balda', 'Scott Speer',\n",
              "       'Mike McCoy|Scott Waugh', 'Kirk Jones', 'Larry Charles',\n",
              "       'Nima Nourizadeh', 'Eric Darnell|Tom McGrath|Conrad Vernon',\n",
              "       'Peter Lord|Jeff Newitt', 'Stephen St. Leger|James Mather',\n",
              "       'James Watkins', 'Asger Leth', 'Henry Alex Rubin', 'Alex Kurtzman',\n",
              "       'John Gulager', 'Ole Bornedal', 'Andrew Dominik',\n",
              "       'Mabrouk El Mechri', 'Nicholas Jarecki', 'Dan Bradley',\n",
              "       'Julie Anne Robinson', 'Dustin Hoffman', 'Sam Fell|Chris Butler',\n",
              "       'Dean Wright', 'Anthony Hemingway', 'Josh Schwartz',\n",
              "       'Brian Klugman|Lee Sternthal', 'Walter Salles', 'David Barrett',\n",
              "       'Todd Lincoln ', 'Dan Cutforth|Jane Lipsitz',\n",
              "       'Lilly Wachowski|Lana Wachowski', 'Andrew Stanton|Lee Unkrich',\n",
              "       'Mark Steven Johnson', 'Stephen Norrington', 'Steve Trenbirth',\n",
              "       'Terry Zwigoff', 'David Zucker', 'Bille Woodruff', 'Jan de Bont',\n",
              "       'Rob Schmidt', 'Jon Amiel', 'Clark Johnson',\n",
              "       'Charles Herman-Wurmfeld', 'Richard Donner', 'Anthony Minghella',\n",
              "       'Ronny Yu', 'Joe Dante', 'John McTiernan', 'Kevin Costner',\n",
              "       'Jim Fall', 'Lawrence Kasdan', 'Joel Coen', 'Patty Jenkins',\n",
              "       'Martin Brest', 'Ronald F. Maxwell', 'Troy Miller', 'Alan Parker',\n",
              "       'Uwe Boll', 'Chris Koch', 'David Mackenzie', 'FranÃ§ois Ozon',\n",
              "       'Christopher Guest', 'Nigel Cole', 'James Cox', 'Rob Reiner',\n",
              "       'Robert Iscove', 'Christine Jeffs', 'Chris Buck|Jennifer Lee',\n",
              "       'Alfonso CuarÃ³n', 'Shane Black', 'Steve McQueen', 'Dan Scanlon',\n",
              "       'Tommy Wirkola', 'Carl Rinsch', 'Chris Wedge', 'Klay Hall',\n",
              "       'Harmony Korine', 'Fede Alvarez', 'Derek Cianfrance',\n",
              "       'Kirk De Micco|Chris Sanders', 'Kimberly Peirce', 'John Carney',\n",
              "       'Justin Zackham', 'Seth Rogen|Evan Goldberg', 'Taylor Hackford',\n",
              "       'Mike Flanagan', 'David Soren', 'Steven Knight', 'Spike Lee',\n",
              "       'Andy Muschietti',\n",
              "       'Steven Brill|Elizabeth Banks|Steve Carr|Rusty Cundieff|James Duffy|Griffin Dunne|Peter Farrelly|Patrik Forsberg|James Gunn|Brett Ratner|Will Graham|Jonathan van Tulleken',\n",
              "       'Scott Moore|Jon Lucas', 'Callan Brunker', 'Amma Asante',\n",
              "       'Sofia Coppola', 'Dito Montiel', 'Cody Cameron|Kris Pearn',\n",
              "       'Giuseppe Tornatore', 'Don Scardino', 'Jeff Nichols',\n",
              "       'Jonathan Teplitzky', 'Allen Hughes',\n",
              "       'Neil Nightingale|Barry Cook', 'Scott Walker', 'Guillaume Canet',\n",
              "       'Ric Roman Waugh', 'Keanu Reeves', 'David E. Talbert',\n",
              "       'Christopher B. Landon', 'Benson Lee', 'Anthony Silverston',\n",
              "       'Kasi Lemmons', 'Dan St. Pierre', 'Zal Batmanglij',\n",
              "       'Ed Gass-Donnelly', 'Justin Chadwick', 'Stephen Frears',\n",
              "       'Oliver Hirschbiegel', 'Courtney Solomon', 'Fyodor Bondarchuk',\n",
              "       'Robert Rodriguez|Frank Miller|Quentin Tarantino',\n",
              "       'Garth Jennings', 'Mark Dindal', 'Tim Burton|Mike Johnson',\n",
              "       'Steve Box|Nick Park', 'John Maybury', 'Angela Robinson',\n",
              "       'Cory Edwards|Todd Edwards|Tony Leech', 'John Polson',\n",
              "       'Sydney Pollack', 'Terry Gilliam', 'Florent-Emilio Siri',\n",
              "       'Jay Chandrasekhar', 'Frederik Du Chau', 'Andrew Douglas',\n",
              "       'Dean Parisot', 'Kevin Rodney Sullivan', 'Jean-FranÃ§ois Richet',\n",
              "       'Jim Jarmusch', 'George A. Romero', 'Rupert Wainwright',\n",
              "       'Clare Kilner', 'Richard Shepard', 'Gary Chapman',\n",
              "       'Fernando Meirelles', 'Tommy Lee Jones', 'Danny Cannon',\n",
              "       'Geoffrey Sax', 'Liev Schreiber', 'Stephen Kay', 'Bruce Hunt',\n",
              "       'Niki Caro', 'John Lasseter|Joe Ranft',\n",
              "       'Tim Johnson|Karey Kirkpatrick', 'Brian Taylor|Mark Neveldine',\n",
              "       'Frank Marshall', 'James Wong', 'Christophe Gans',\n",
              "       'David Bowers|Sam Fell', \"Steve 'Spaz' Williams\",\n",
              "       'Stefen Fangmeier', 'Alejandro Agresti', 'Mel Gibson',\n",
              "       'Robert De Niro', 'Kevin Reynolds', \"Matthew O'Callaghan\",\n",
              "       'Steven Zaillian', 'Joe Roth', 'Darren Lynn Bousman', 'Jared Hess',\n",
              "       'Wolfgang Petersen', 'Steven Shainberg', 'Anthony Russo|Joe Russo',\n",
              "       'Jonathan Dayton|Valerie Faris', 'Greg Coolidge', 'Nick Hurran',\n",
              "       'Aaron Seltzer|Jason Friedberg',\n",
              "       'Roger Allers|Jill Culton|Anthony Stacchi', 'Steve Oedekerk',\n",
              "       'Chris Noonan', 'Jim Sonzero', 'John Bonito', 'Liz Friedlander',\n",
              "       'Peter Hewitt', 'Elizabeth Allen Rosenbaum', 'Richard Eyre',\n",
              "       'Tony Bill', 'Wayne Kramer', 'Susannah Grant', 'Takashi Shimizu',\n",
              "       'Richard Loncraine', 'Liam Lynch', 'Sanjay Gadhvi', 'Glen Morgan',\n",
              "       'Phil Joanou', 'Mira Nair', 'Rachid Bouchareb',\n",
              "       'William Brent Bell', 'Asif Kapadia', 'Doug Atchison',\n",
              "       'Beeban Kidron', 'Andrew Adamson|Kelly Asbury|Conrad Vernon',\n",
              "       'Eric Bress|J. Mackye Gruber', 'Alexander Witt',\n",
              "       'Bibo Bergeron|Vicky Jenson|Rob Letterman', 'Kerry Conran',\n",
              "       'Stephen Hillenburg', \"Tommy O'Haver\", 'Mark Rosman',\n",
              "       'Rawson Marshall Thurber', 'Danny Leiner', 'Jeff Schaffer',\n",
              "       'Mike Nichols', 'Jonathan Hensleigh', 'Pitof', 'Don Mancini',\n",
              "       'Charles Shyer', 'Will Finn|John Sanford', 'Terry George',\n",
              "       'Philip Kaufman', 'Trey Parker', 'Sara Sugarman', 'Guy Ferland',\n",
              "       'Joseph Ruben', 'Nick Hamm', 'Paul Abascal', 'Joseph Kahn',\n",
              "       \"Gavin O'Connor\", 'E. Elias Merhige', 'George Armitage',\n",
              "       'David Mamet', 'Kevin Allen', 'Christopher Erskin', 'Jay Russell',\n",
              "       'Brad Bird|Jan Pinkava', 'Joel Coen|Ethan Coen', 'Sean Penn',\n",
              "       'Chris Miller|Raman Hui', 'Steve Hickner|Simon J. Smith',\n",
              "       'Stephen J. Anderson', 'Richard LaGravenese', 'Kevin Lima',\n",
              "       'David Silverman', 'Juan Carlos Fresnadillo', 'Steve Bendelack',\n",
              "       'Bruce A. Evans', 'Kirsten Sheridan', 'Joby Harold',\n",
              "       'Philip G. Atwell', 'Mennan Yapo', 'Michael Davis',\n",
              "       'Ash Brannon|Chris Buck', 'Xavier Gens',\n",
              "       'Robert Rodriguez|Eli Roth|Quentin Tarantino|Edgar Wright|Rob Zombie|Jason Eisener',\n",
              "       'David Schwimmer', 'Eli Roth', 'Dave Meyers', 'Chris Sivertson',\n",
              "       'Michael Haneke', 'Oliver Hirschbiegel|James McTeigue',\n",
              "       'Sidney Lumet', 'Fred Savage', 'Russell Mulcahy',\n",
              "       'Michael Winterbottom', 'Stephen Hopkins', 'James Foley',\n",
              "       'Mark Helfrich', 'Jon Kasdan',\n",
              "       'Shari Springer Berman|Robert Pulcini', 'James Gray',\n",
              "       'Peter Hedges', 'Roland JoffÃ©', 'Amy Heckerling', 'Susanne Bier',\n",
              "       'Alastair Fothergill|Mark Linfield', 'Doug Lefler', 'Wong Kar-wai',\n",
              "       'Sylvain White', 'David Leland', 'Chris Rock', 'Peter Webber',\n",
              "       'Feng Xiaogang', 'Ben Garant', 'Ralph Zondag|Eric Leighton',\n",
              "       'Peter Lord|Nick Park', 'David McNally', 'Ben Younger',\n",
              "       'Don Michael Paul|Bibo Bergeron', 'Mimi Leder', 'Paul Verhoeven',\n",
              "       'Mary Harron', 'Lars von Trier', 'Roger Spottiswoode',\n",
              "       'Peter Farrelly|Bobby Farrelly', 'Antony Hoffman',\n",
              "       'Stephen T. Kay', 'Don Bluth|Gary Goldman', 'John Frankenheimer',\n",
              "       'Edward Norton', 'Walter Hill|Jack Sholder', 'Christian Duguay',\n",
              "       'David Raynr', 'Douglas Aarniokoski', 'Davis Guggenheim',\n",
              "       'Bonnie Hunt', 'Uli Edel', 'Des McAnuff', 'Diane Keaton',\n",
              "       'Mary Lambert'], dtype=object)"
            ]
          },
          "metadata": {
            "tags": []
          },
          "execution_count": 10
        }
      ]
    },
    {
      "cell_type": "code",
      "metadata": {
        "colab": {
          "base_uri": "https://localhost:8080/",
          "height": 297
        },
        "id": "CoYUnagMVp-C",
        "outputId": "04b4023e-af3c-4c50-aa6a-74bb4808d60c"
      },
      "source": [
        "data.describe()"
      ],
      "execution_count": null,
      "outputs": [
        {
          "output_type": "execute_result",
          "data": {
            "text/html": [
              "<div>\n",
              "<style scoped>\n",
              "    .dataframe tbody tr th:only-of-type {\n",
              "        vertical-align: middle;\n",
              "    }\n",
              "\n",
              "    .dataframe tbody tr th {\n",
              "        vertical-align: top;\n",
              "    }\n",
              "\n",
              "    .dataframe thead th {\n",
              "        text-align: right;\n",
              "    }\n",
              "</style>\n",
              "<table border=\"1\" class=\"dataframe\">\n",
              "  <thead>\n",
              "    <tr style=\"text-align: right;\">\n",
              "      <th></th>\n",
              "      <th>budget</th>\n",
              "      <th>revenue</th>\n",
              "      <th>runtime</th>\n",
              "      <th>vote_average</th>\n",
              "      <th>release_year</th>\n",
              "    </tr>\n",
              "  </thead>\n",
              "  <tbody>\n",
              "    <tr>\n",
              "      <th>count</th>\n",
              "      <td>1.889000e+03</td>\n",
              "      <td>1.889000e+03</td>\n",
              "      <td>1889.000000</td>\n",
              "      <td>1889.000000</td>\n",
              "      <td>1889.000000</td>\n",
              "    </tr>\n",
              "    <tr>\n",
              "      <th>mean</th>\n",
              "      <td>5.431083e+07</td>\n",
              "      <td>1.553653e+08</td>\n",
              "      <td>109.658549</td>\n",
              "      <td>6.140762</td>\n",
              "      <td>2007.860773</td>\n",
              "    </tr>\n",
              "    <tr>\n",
              "      <th>std</th>\n",
              "      <td>4.858721e+07</td>\n",
              "      <td>2.146698e+08</td>\n",
              "      <td>18.017041</td>\n",
              "      <td>0.764763</td>\n",
              "      <td>4.468841</td>\n",
              "    </tr>\n",
              "    <tr>\n",
              "      <th>min</th>\n",
              "      <td>5.000000e+06</td>\n",
              "      <td>2.033165e+06</td>\n",
              "      <td>63.000000</td>\n",
              "      <td>3.300000</td>\n",
              "      <td>2000.000000</td>\n",
              "    </tr>\n",
              "    <tr>\n",
              "      <th>25%</th>\n",
              "      <td>2.000000e+07</td>\n",
              "      <td>3.456058e+07</td>\n",
              "      <td>97.000000</td>\n",
              "      <td>5.600000</td>\n",
              "      <td>2004.000000</td>\n",
              "    </tr>\n",
              "    <tr>\n",
              "      <th>50%</th>\n",
              "      <td>3.800000e+07</td>\n",
              "      <td>8.361541e+07</td>\n",
              "      <td>107.000000</td>\n",
              "      <td>6.100000</td>\n",
              "      <td>2008.000000</td>\n",
              "    </tr>\n",
              "    <tr>\n",
              "      <th>75%</th>\n",
              "      <td>7.200000e+07</td>\n",
              "      <td>1.782626e+08</td>\n",
              "      <td>120.000000</td>\n",
              "      <td>6.600000</td>\n",
              "      <td>2012.000000</td>\n",
              "    </tr>\n",
              "    <tr>\n",
              "      <th>max</th>\n",
              "      <td>3.800000e+08</td>\n",
              "      <td>2.781506e+09</td>\n",
              "      <td>214.000000</td>\n",
              "      <td>8.100000</td>\n",
              "      <td>2015.000000</td>\n",
              "    </tr>\n",
              "  </tbody>\n",
              "</table>\n",
              "</div>"
            ],
            "text/plain": [
              "             budget       revenue      runtime  vote_average  release_year\n",
              "count  1.889000e+03  1.889000e+03  1889.000000   1889.000000   1889.000000\n",
              "mean   5.431083e+07  1.553653e+08   109.658549      6.140762   2007.860773\n",
              "std    4.858721e+07  2.146698e+08    18.017041      0.764763      4.468841\n",
              "min    5.000000e+06  2.033165e+06    63.000000      3.300000   2000.000000\n",
              "25%    2.000000e+07  3.456058e+07    97.000000      5.600000   2004.000000\n",
              "50%    3.800000e+07  8.361541e+07   107.000000      6.100000   2008.000000\n",
              "75%    7.200000e+07  1.782626e+08   120.000000      6.600000   2012.000000\n",
              "max    3.800000e+08  2.781506e+09   214.000000      8.100000   2015.000000"
            ]
          },
          "metadata": {
            "tags": []
          },
          "execution_count": 21
        }
      ]
    },
    {
      "cell_type": "markdown",
      "metadata": {
        "id": "DTIt7ezGVp-G"
      },
      "source": [
        "# Предобработка"
      ]
    },
    {
      "cell_type": "code",
      "metadata": {
        "id": "jNb40DwKVp-H"
      },
      "source": [
        "answers = {} # создадим словарь для ответов\n",
        "\n",
        "# тут другие ваши предобработки колонок например:\n",
        "#создаем колонку profit = revenue - budget\n",
        "data['profit'] = data['revenue'] - data['budget']\n",
        "\n",
        "#the time given in the dataset is in string format.\n",
        "#So we need to change this in datetime format\n",
        "# ..."
      ],
      "execution_count": 5,
      "outputs": []
    },
    {
      "cell_type": "markdown",
      "metadata": {
        "id": "YxZaH-nPVp-L"
      },
      "source": [
        "# 1. У какого фильма из списка самый большой бюджет?"
      ]
    },
    {
      "cell_type": "markdown",
      "metadata": {
        "id": "Nd-G5gX6Vp-M"
      },
      "source": [
        "Использовать варианты ответов в коде решения запрещено.    \n",
        "Вы думаете и в жизни у вас будут варианты ответов?)"
      ]
    },
    {
      "cell_type": "code",
      "metadata": {
        "id": "uVnXAY5RVp-O"
      },
      "source": [
        "# в словарь вставляем номер вопроса и ваш ответ на него\n",
        "# Пример: \n",
        "answers['1'] = '2. Spider-Man 3 (tt0413300)'\n",
        "# запишите свой вариант ответа\n",
        "answers['1'] = '...'\n",
        "# если ответили верно, можете добавить комментарий со значком \"+\""
      ],
      "execution_count": null,
      "outputs": []
    },
    {
      "cell_type": "code",
      "metadata": {
        "id": "dZwb3m28Vp-S"
      },
      "source": [
        "# тут пишем ваш код для решения данного вопроса:\n",
        "answers['1'] = data.sort_values(['budget'],ascending=False).head(1).original_title #+"
      ],
      "execution_count": null,
      "outputs": []
    },
    {
      "cell_type": "markdown",
      "metadata": {
        "id": "K7L3nbRXVp-X"
      },
      "source": [
        "ВАРИАНТ 2"
      ]
    },
    {
      "cell_type": "code",
      "metadata": {
        "id": "OGaoQI7rVp-X"
      },
      "source": [
        "# можно добавлять разные варианты решения\n",
        "answers['1'] = data[data.budget==data.budget.max()].original_title #+"
      ],
      "execution_count": null,
      "outputs": []
    },
    {
      "cell_type": "markdown",
      "metadata": {
        "id": "FNRbbI3vVp-c"
      },
      "source": [
        "# 2. Какой из фильмов самый длительный (в минутах)?"
      ]
    },
    {
      "cell_type": "code",
      "metadata": {
        "id": "vHAoEXNTVp-d"
      },
      "source": [
        "# думаю логику работы с этим словарем вы уже поняли, \n",
        "# по этому не буду больше его дублировать\n",
        "answers['2'] = '...'"
      ],
      "execution_count": null,
      "outputs": []
    },
    {
      "cell_type": "code",
      "metadata": {
        "id": "ot-VX2XrVp-g"
      },
      "source": [
        "answers['2'] = data.sort_values(['runtime'],ascending=False).head(1).original_title #+\n"
      ],
      "execution_count": null,
      "outputs": []
    },
    {
      "cell_type": "markdown",
      "metadata": {
        "id": "bapLlpW8Vp-k"
      },
      "source": [
        "# 3. Какой из фильмов самый короткий (в минутах)?\n",
        "\n",
        "\n",
        "\n"
      ]
    },
    {
      "cell_type": "code",
      "metadata": {
        "id": "YBxaSHuAVp-l"
      },
      "source": [
        "answers['3'] = data.sort_values(['runtime'],ascending=True).head(1).original_title #+\n"
      ],
      "execution_count": null,
      "outputs": []
    },
    {
      "cell_type": "markdown",
      "metadata": {
        "id": "TfQbxbfNVp-p"
      },
      "source": [
        "# 4. Какова средняя длительность фильмов?\n"
      ]
    },
    {
      "cell_type": "code",
      "metadata": {
        "id": "5K6dKZYVVp-q"
      },
      "source": [
        "answers['4'] = data['runtime'].mean() #+"
      ],
      "execution_count": null,
      "outputs": []
    },
    {
      "cell_type": "markdown",
      "metadata": {
        "id": "r5TvbnT_Vp-u"
      },
      "source": [
        "# 5. Каково медианное значение длительности фильмов? "
      ]
    },
    {
      "cell_type": "code",
      "metadata": {
        "id": "iBROplKnVp-v"
      },
      "source": [
        "answers['5'] = data['runtime'].median() #+"
      ],
      "execution_count": null,
      "outputs": []
    },
    {
      "cell_type": "markdown",
      "metadata": {
        "id": "39P-deDSVp-y"
      },
      "source": [
        "# 6. Какой самый прибыльный фильм?\n",
        "#### Внимание! Здесь и далее под «прибылью» или «убытками» понимается разность между сборами и бюджетом фильма. (прибыль = сборы - бюджет) в нашем датасете это будет (profit = revenue - budget) "
      ]
    },
    {
      "cell_type": "code",
      "metadata": {
        "id": "UYZh4T9WVp-y"
      },
      "source": [
        "# лучше код получения столбца profit вынести в Предобработку что в начале\n",
        "answers['6'] = data[data.profit==data.profit.max()].original_title #+"
      ],
      "execution_count": null,
      "outputs": []
    },
    {
      "cell_type": "markdown",
      "metadata": {
        "id": "M99JmIX4Vp-2"
      },
      "source": [
        "# 7. Какой фильм самый убыточный? "
      ]
    },
    {
      "cell_type": "code",
      "metadata": {
        "id": "w-D2m4XPVp-3"
      },
      "source": [
        "answers['7'] = data[data.profit==data.profit.min()].original_title #+"
      ],
      "execution_count": null,
      "outputs": []
    },
    {
      "cell_type": "markdown",
      "metadata": {
        "id": "wEOM5ERVVp-6"
      },
      "source": [
        "# 8. У скольких фильмов из датасета объем сборов оказался выше бюджета?"
      ]
    },
    {
      "cell_type": "code",
      "metadata": {
        "id": "y00_7HD6Vp-7"
      },
      "source": [
        "answers['8'] = data[data.revenue>data.budget].imdb_id.count() #+"
      ],
      "execution_count": null,
      "outputs": []
    },
    {
      "cell_type": "markdown",
      "metadata": {
        "id": "xhpspA9KVp_A"
      },
      "source": [
        "# 9. Какой фильм оказался самым кассовым в 2008 году?"
      ]
    },
    {
      "cell_type": "code",
      "metadata": {
        "id": "MoUyQr9RVp_B"
      },
      "source": [
        "tmp_data = data[(data.release_year==2008)]\n",
        "answers['9'] = tmp_data[(tmp_data.revenue==tmp_data.revenue.max())].original_title #+"
      ],
      "execution_count": null,
      "outputs": []
    },
    {
      "cell_type": "markdown",
      "metadata": {
        "id": "Zi4hDKidVp_F"
      },
      "source": [
        "# 10. Самый убыточный фильм за период с 2012 по 2014 г. (включительно)?\n"
      ]
    },
    {
      "cell_type": "code",
      "metadata": {
        "id": "XqyRmufJVp_F"
      },
      "source": [
        "tmp_data = data[(data.release_year>=2012)&(data.release_year<=2014)]\n",
        "answers['10'] = tmp_data[(tmp_data.profit==tmp_data.profit.min())].original_title #+"
      ],
      "execution_count": null,
      "outputs": []
    },
    {
      "cell_type": "markdown",
      "metadata": {
        "id": "EA7Sa9dkVp_I"
      },
      "source": [
        "# 11. Какого жанра фильмов больше всего?"
      ]
    },
    {
      "cell_type": "code",
      "metadata": {
        "id": "zsJAwJ8QVp_J"
      },
      "source": [
        "# эту задачу тоже можно решать разными подходами, попробуй реализовать разные варианты\n",
        "# если будешь добавлять функцию - выноси ее в предобработку что в начале\n",
        "\n",
        "#сохраняем первоначальную выборку\n",
        "data_old = data\n",
        "#преобразовываем столбец в формат даты для заданий 2Х\n",
        "data_old['release_date'] = pd.to_datetime(data_old['release_date'], format=\"%m/%d/%Y\")\n",
        "#создаем отдельный столбец с месяцем\n",
        "data_old['month'] = data_old['release_date'].dt.month\n",
        "\n",
        "#во всех столбцах, содержащих несколько записей, разделяем значения и далее создаем отдельные строки для каждого из значений\n",
        "data['new_genres'] = data.genres.str.split(\"|\")\n",
        "data = data.explode('new_genres')\n",
        "data['new_director'] = data.director.str.split(\"|\")\n",
        "data = data.explode('new_director')\n",
        "data['new_cast'] = data.cast.str.split(\"|\")\n",
        "data = data.explode('new_cast')\n",
        "data['new_production_companies'] = data.production_companies.str.split(\"|\")\n",
        "data = data.explode('new_production_companies')\n",
        "\n",
        "answers['11'] = data.groupby('new_genres', sort=False).imdb_id.nunique().sort_values(ascending=False).index[0]\n",
        "\n"
      ],
      "execution_count": 52,
      "outputs": []
    },
    {
      "cell_type": "markdown",
      "metadata": {
        "id": "Ax6g2C8SVp_M"
      },
      "source": [
        "ВАРИАНТ 2"
      ]
    },
    {
      "cell_type": "code",
      "metadata": {
        "id": "otO3SbrSVp_N"
      },
      "source": [
        ""
      ],
      "execution_count": 6,
      "outputs": []
    },
    {
      "cell_type": "markdown",
      "metadata": {
        "id": "T9_bPWpkVp_Q"
      },
      "source": [
        "# 12. Фильмы какого жанра чаще всего становятся прибыльными? "
      ]
    },
    {
      "cell_type": "code",
      "metadata": {
        "id": "Tmt8MaK1Vp_R"
      },
      "source": [
        "data_tmp = data[data.profit>0]\n",
        "answers['12'] = data_tmp.groupby('new_genres', sort=False).imdb_id.nunique().sort_values(ascending=False).index[0]"
      ],
      "execution_count": null,
      "outputs": []
    },
    {
      "cell_type": "markdown",
      "metadata": {
        "id": "0F23bgsDVp_U"
      },
      "source": [
        "# 13. У какого режиссера самые большие суммарные кассовые сборы?"
      ]
    },
    {
      "cell_type": "code",
      "metadata": {
        "id": "K6Z3J8ygVp_X"
      },
      "source": [
        "data_tmp = data.groupby(['new_director','revenue']).agg({'revenue':'sum', 'imdb_id':'count'})\n",
        "data_tmp['rev'] = data_tmp['revenue']/data_tmp['imdb_id']\n",
        "answers['13'] = data_tmp.groupby(['new_director']).rev.sum().sort_values(ascending=False).index[0]"
      ],
      "execution_count": null,
      "outputs": []
    },
    {
      "cell_type": "markdown",
      "metadata": {
        "id": "PsYC9FgRVp_a"
      },
      "source": [
        "# 14. Какой режисер снял больше всего фильмов в стиле Action?"
      ]
    },
    {
      "cell_type": "code",
      "metadata": {
        "id": "wd2M-wHeVp_b"
      },
      "source": [
        "data_tmp = data[data.new_genres=='Action']\n",
        "answers['14'] = data_tmp['new_director'].value_counts().index[0]"
      ],
      "execution_count": null,
      "outputs": []
    },
    {
      "cell_type": "markdown",
      "metadata": {
        "id": "PQ0KciD7Vp_f"
      },
      "source": [
        "# 15. Фильмы с каким актером принесли самые высокие кассовые сборы в 2012 году? "
      ]
    },
    {
      "cell_type": "code",
      "metadata": {
        "id": "aga62oeKVp_g"
      },
      "source": [
        "data_tmp = data[data.release_year==2012].groupby(['new_cast','revenue']).agg({'revenue':'sum', 'imdb_id':'count'})\n",
        "data_tmp['rev'] = data_tmp['revenue']/data_tmp['imdb_id']\n",
        "answers['15'] = data_tmp.groupby(['new_cast']).rev.sum().sort_values(ascending=False).index[0]"
      ],
      "execution_count": null,
      "outputs": []
    },
    {
      "cell_type": "markdown",
      "metadata": {
        "id": "mWHyyL7QVp_j"
      },
      "source": [
        "# 16. Какой актер снялся в большем количестве высокобюджетных фильмов?"
      ]
    },
    {
      "cell_type": "code",
      "metadata": {
        "id": "qQtmHKTFVp_k"
      },
      "source": [
        "#находим средний бюджет\n",
        "budgetAvg = data_old['budget'].mean()\n",
        "\n",
        "answers['16']  = data[data.budget>budgetAvg].groupby(['new_cast']).agg({'imdb_id':'nunique'}).sort_values(by='imdb_id',ascending=False).index[0]"
      ],
      "execution_count": null,
      "outputs": []
    },
    {
      "cell_type": "markdown",
      "metadata": {
        "id": "NIh6AaW5Vp_n"
      },
      "source": [
        "# 17. В фильмах какого жанра больше всего снимался Nicolas Cage? "
      ]
    },
    {
      "cell_type": "code",
      "metadata": {
        "id": "H74SJDIBVp_n"
      },
      "source": [
        "answers['17'] = data[data.new_cast=='Nicolas Cage'].groupby(['new_genres']).count().sort_values(by='imdb_id',ascending=False).index[0]"
      ],
      "execution_count": null,
      "outputs": []
    },
    {
      "cell_type": "markdown",
      "metadata": {
        "id": "RqOmPRfWVp_q"
      },
      "source": [
        "# 18. Самый убыточный фильм от Paramount Pictures"
      ]
    },
    {
      "cell_type": "code",
      "metadata": {
        "id": "9E_B0Y96Vp_r"
      },
      "source": [
        "answers['18'] = data[data.new_production_companies=='Paramount Pictures'].sort_values(by='profit',ascending=True).original_title.head(1)"
      ],
      "execution_count": null,
      "outputs": []
    },
    {
      "cell_type": "markdown",
      "metadata": {
        "id": "vS8Ur6ddVp_u"
      },
      "source": [
        "# 19. Какой год стал самым успешным по суммарным кассовым сборам?"
      ]
    },
    {
      "cell_type": "code",
      "metadata": {
        "id": "Dnbt4GdIVp_v"
      },
      "source": [
        "answers['19']  = data_old.groupby(['release_year']).agg({'revenue':'sum'}).sort_values(by='revenue',ascending=False).index[0]"
      ],
      "execution_count": null,
      "outputs": []
    },
    {
      "cell_type": "markdown",
      "metadata": {
        "id": "JAzJh4QAVp_z"
      },
      "source": [
        "# 20. Какой самый прибыльный год для студии Warner Bros?"
      ]
    },
    {
      "cell_type": "code",
      "metadata": {
        "id": "wgVu02DEVp_0"
      },
      "source": [
        "answers['20'] = data_old[data_old.production_companies.str.contains('Warner Bros')].groupby(['release_year']).agg({'profit':'sum'}).sort_values(by='profit',ascending=False).index[0]"
      ],
      "execution_count": null,
      "outputs": []
    },
    {
      "cell_type": "markdown",
      "metadata": {
        "id": "8Im1S2HRVp_4"
      },
      "source": [
        "# 21. В каком месяце за все годы суммарно вышло больше всего фильмов?"
      ]
    },
    {
      "cell_type": "code",
      "metadata": {
        "id": "lev6TH7gVp_4"
      },
      "source": [
        "answers['21'] = data_old.groupby(['month']).imdb_id.count().sort_values(ascending=False).index[0]"
      ],
      "execution_count": null,
      "outputs": []
    },
    {
      "cell_type": "markdown",
      "metadata": {
        "id": "uAJsZ_NeVp_7"
      },
      "source": [
        "# 22. Сколько суммарно вышло фильмов летом? (за июнь, июль, август)"
      ]
    },
    {
      "cell_type": "code",
      "metadata": {
        "id": "Aa-hEREoVp_8",
        "colab": {
          "base_uri": "https://localhost:8080/"
        },
        "outputId": "854d637e-2118-4e4a-a747-a24a6264a11e"
      },
      "source": [
        "answers['22'] = data_old[(data_old.month>=6)&(data_old.month<=8)].imdb_id.count()"
      ],
      "execution_count": null,
      "outputs": [
        {
          "output_type": "execute_result",
          "data": {
            "text/plain": [
              "{'1': 723    Pirates of the Caribbean: On Stranger Tides\n",
              " Name: original_title, dtype: object, '10': 1245    The Lone Ranger\n",
              " Name: original_title, dtype: object, '11': 'Drama', '12': 'Drama', '13': 'Peter Jackson', '14': 'Paul W.S. Anderson', '15': 'Chris Hemsworth', '16': 'Matt Damon', '17': 'Action', '18': 925    K-19: The Widowmaker\n",
              " Name: original_title, dtype: object, '19': 2015, '2': 1157    Gods and Generals\n",
              " Name: original_title, dtype: object, '20': 2014, '21': 9, '22': 450, '3': 768    Winnie the Pooh\n",
              " Name: original_title, dtype: object, '4': 109.6585494970884, '5': 107.0, '6': 239    Avatar\n",
              " Name: original_title, dtype: object, '7': 1245    The Lone Ranger\n",
              " Name: original_title, dtype: object, '8': 1478, '9': 599    The Dark Knight\n",
              " Name: original_title, dtype: object}"
            ]
          },
          "metadata": {
            "tags": []
          },
          "execution_count": 122
        }
      ]
    },
    {
      "cell_type": "markdown",
      "metadata": {
        "id": "G94ppOY1VqAA"
      },
      "source": [
        "# 23. Для какого режиссера зима – самое продуктивное время года? "
      ]
    },
    {
      "cell_type": "code",
      "metadata": {
        "id": "RhNTsamuVqAB"
      },
      "source": [
        "answers['23'] = data[(data.month==12)|(data.month<=2)].groupby(['director']).agg({'imdb_id':'nunique'}).sort_values(by='imdb_id',ascending=False).index[0]"
      ],
      "execution_count": 40,
      "outputs": []
    },
    {
      "cell_type": "markdown",
      "metadata": {
        "id": "RBo0JVjVVqAF"
      },
      "source": [
        "# 24. Какая студия дает самые длинные названия своим фильмам по количеству символов?"
      ]
    },
    {
      "cell_type": "code",
      "metadata": {
        "id": "QRGS8L0iVqAG"
      },
      "source": [
        "data['title_len'] = data['original_title'].apply(lambda x: len(x))\n",
        "answers['24'] = data[data.title_len == data.title_len.max()].production_companies.head(1)"
      ],
      "execution_count": 41,
      "outputs": []
    },
    {
      "cell_type": "markdown",
      "metadata": {
        "id": "9G0hbvR7VqAK"
      },
      "source": [
        "# 25. Описание фильмов какой студии в среднем самые длинные по количеству слов?"
      ]
    },
    {
      "cell_type": "code",
      "metadata": {
        "id": "Ge2GsLNxVqAK"
      },
      "source": [
        "data25 = data_old\n",
        "data25['new_production_companies'] = data25.production_companies.str.split(\"|\")\n",
        "data25 = data25.explode('new_production_companies')\n",
        "\n",
        "data25['words_num'] = data25['overview'].apply(lambda x: len(x.split(' ')))\n",
        "answers['25']  = data25.groupby(['new_production_companies']).words_num.mean().sort_values(ascending=False).index[0]"
      ],
      "execution_count": 25,
      "outputs": []
    },
    {
      "cell_type": "markdown",
      "metadata": {
        "id": "FJ1AFt90VqAP"
      },
      "source": [
        "# 26. Какие фильмы входят в 1 процент лучших по рейтингу? \n",
        "по vote_average"
      ]
    },
    {
      "cell_type": "code",
      "metadata": {
        "id": "8qmJVq4CVqAQ",
        "colab": {
          "base_uri": "https://localhost:8080/"
        },
        "outputId": "b94d454d-8178-4d5b-b0c9-0a2a27de9e80"
      },
      "source": [
        "data26 = data_old\n",
        "res  = data_old.sort_values(['vote_average'],ascending=False).head(round(len(data_old)*0.01)).original_title\n",
        "res\n"
      ],
      "execution_count": 39,
      "outputs": [
        {
          "output_type": "execute_result",
          "data": {
            "text/plain": [
              "599                                   The Dark Knight\n",
              "118                                      Interstellar\n",
              "125                                The Imitation Game\n",
              "9                                          Inside Out\n",
              "34                                               Room\n",
              "1183                          The Wolf of Wall Street\n",
              "128                                         Gone Girl\n",
              "1191                                 12 Years a Slave\n",
              "119                           Guardians of the Galaxy\n",
              "1081    The Lord of the Rings: The Return of the King\n",
              "1800                                          Memento\n",
              "370                                         Inception\n",
              "872                                       The Pianist\n",
              "138                          The Grand Budapest Hotel\n",
              "1188                                              Her\n",
              "28                                          Spotlight\n",
              "124                                        Big Hero 6\n",
              "177                            The Fault in Our Stars\n",
              "863             The Lord of the Rings: The Two Towers\n",
              "Name: original_title, dtype: object"
            ]
          },
          "metadata": {
            "tags": []
          },
          "execution_count": 39
        }
      ]
    },
    {
      "cell_type": "markdown",
      "metadata": {
        "id": "MdXsUXbCVqAV"
      },
      "source": [
        "# 27. Какие актеры чаще всего снимаются в одном фильме вместе?\n"
      ]
    },
    {
      "cell_type": "code",
      "metadata": {
        "colab": {
          "base_uri": "https://localhost:8080/"
        },
        "id": "bYtiXcJ3PFEU",
        "outputId": "8de62365-85eb-49ba-c73a-410b0f36a11e"
      },
      "source": [
        "import collections\n",
        "from itertools import combinations\n",
        "from collections import Counter\n",
        "\n",
        "data27 = data_old\n",
        "data27['new_cast'] = data27.cast.str.split(\"|\")\n",
        "#создаем в столбце список с комбинациями актеров по 2 в 1 комбинации\n",
        "data27['pairs'] = data27['new_cast'].apply(lambda s: list(combinations(s, 2)))\n",
        "data27 = data27.explode('pairs')\n",
        "\n",
        "answers['27'] = data27.groupby(['pairs']).pairs.count().sort_values(ascending=False).head(2)\n",
        "answers['27']"
      ],
      "execution_count": 64,
      "outputs": [
        {
          "output_type": "execute_result",
          "data": {
            "text/plain": [
              "pairs\n",
              "(Daniel Radcliffe, Emma Watson)     8\n",
              "(Daniel Radcliffe, Rupert Grint)    8\n",
              "Name: pairs, dtype: int64"
            ]
          },
          "metadata": {
            "tags": []
          },
          "execution_count": 64
        }
      ]
    },
    {
      "cell_type": "markdown",
      "metadata": {
        "id": "4ymnxEVoVqAW"
      },
      "source": [
        "ВАРИАНТ 2"
      ]
    },
    {
      "cell_type": "markdown",
      "metadata": {
        "id": "U0nONFnGVqAX"
      },
      "source": [
        "# Submission"
      ]
    },
    {
      "cell_type": "code",
      "metadata": {
        "id": "IfcaRO9-VqAX",
        "colab": {
          "base_uri": "https://localhost:8080/"
        },
        "outputId": "0b230d5b-1822-4902-810c-0d5726956b14"
      },
      "source": [
        "# в конце можно посмотреть свои ответы к каждому вопросу\n",
        "answers"
      ],
      "execution_count": 42,
      "outputs": [
        {
          "output_type": "execute_result",
          "data": {
            "text/plain": [
              "{'11': 'Drama',\n",
              " '23': 'Peter Jackson',\n",
              " '24': 1448    Twentieth Century Fox Film Corporation|Four By...\n",
              " Name: production_companies, dtype: object,\n",
              " '25': 'Midnight Picture Show'}"
            ]
          },
          "metadata": {
            "tags": []
          },
          "execution_count": 42
        }
      ]
    },
    {
      "cell_type": "code",
      "metadata": {
        "id": "SiRmHPl8VqAd",
        "colab": {
          "base_uri": "https://localhost:8080/"
        },
        "outputId": "ffdab040-59d0-4fcd-896e-9bfa04a23a97"
      },
      "source": [
        "# и убедиться что ни чего не пропустил)\n",
        "len(answers)"
      ],
      "execution_count": null,
      "outputs": [
        {
          "output_type": "execute_result",
          "data": {
            "text/plain": [
              "24"
            ]
          },
          "metadata": {
            "tags": []
          },
          "execution_count": 136
        }
      ]
    },
    {
      "cell_type": "code",
      "metadata": {
        "id": "uCfuTkRbVqAg"
      },
      "source": [
        ""
      ],
      "execution_count": null,
      "outputs": []
    },
    {
      "cell_type": "code",
      "metadata": {
        "id": "Vwx3NrkSVqAl"
      },
      "source": [
        ""
      ],
      "execution_count": null,
      "outputs": []
    }
  ]
}